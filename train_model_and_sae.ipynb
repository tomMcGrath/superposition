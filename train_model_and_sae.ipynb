{
 "cells": [
  {
   "cell_type": "code",
   "execution_count": 1,
   "id": "4ac8f50c-a8b5-4b95-9f00-8dc46dd75be4",
   "metadata": {},
   "outputs": [
    {
     "name": "stderr",
     "output_type": "stream",
     "text": [
      "/home/ubuntu/.local/lib/python3.10/site-packages/matplotlib/projections/__init__.py:63: UserWarning: Unable to import Axes3D. This may be due to multiple versions of Matplotlib being installed (e.g. as a system package and as a pip package). As a result, the 3D projection is not available.\n",
      "  warnings.warn(\"Unable to import Axes3D. This may be due to multiple versions of \"\n"
     ]
    }
   ],
   "source": [
    "import config\n",
    "import datasets\n",
    "import metrics\n",
    "import models\n",
    "import plots\n",
    "import train"
   ]
  },
  {
   "cell_type": "code",
   "execution_count": 2,
   "id": "7118cdd8-c867-4a6a-bfb3-1d40caae5978",
   "metadata": {},
   "outputs": [
    {
     "name": "stderr",
     "output_type": "stream",
     "text": [
      "100%|██████████| 10000/10000 [00:08<00:00, 1161.55it/s]\n"
     ]
    }
   ],
   "source": [
    "train_outs = train.train(config.cfg, progressbar=True)"
   ]
  },
  {
   "cell_type": "code",
   "execution_count": 3,
   "id": "5bacd4e1-dca6-477c-8d8a-b4e9297b37a3",
   "metadata": {},
   "outputs": [],
   "source": [
    "cfg = config.cfg"
   ]
  },
  {
   "cell_type": "code",
   "execution_count": 4,
   "id": "9c806e0b-b5fb-4307-bcc1-cf6b5425a2b9",
   "metadata": {},
   "outputs": [],
   "source": [
    "cfg[\"sae_config\"] = config.sae_cfg"
   ]
  },
  {
   "cell_type": "code",
   "execution_count": 5,
   "id": "ce5b26f4-704d-4498-b050-2a66de7436a1",
   "metadata": {},
   "outputs": [],
   "source": [
    "model = train_outs[\"model\"]\n",
    "dataset = train_outs[\"dataset\"]"
   ]
  },
  {
   "cell_type": "code",
   "execution_count": 6,
   "id": "ceddb338-357f-4f2e-b76f-dc0f9af2462e",
   "metadata": {},
   "outputs": [
    {
     "name": "stdout",
     "output_type": "stream",
     "text": [
      "{'hidden_dim': 5}\n",
      "20\n"
     ]
    },
    {
     "name": "stderr",
     "output_type": "stream",
     "text": [
      "100%|██████████| 10000/10000 [00:10<00:00, 921.55it/s]\n"
     ]
    }
   ],
   "source": [
    "sae_train_outs = train.train_sae(\n",
    "    cfg,\n",
    "    model,\n",
    "    dataset,\n",
    ")"
   ]
  },
  {
   "cell_type": "code",
   "execution_count": 8,
   "id": "55adcbb3-7d8f-470c-a591-1beb5e9a07c7",
   "metadata": {},
   "outputs": [],
   "source": [
    "import matplotlib.pyplot as plt"
   ]
  },
  {
   "cell_type": "code",
   "execution_count": 10,
   "id": "548103dd-bd53-4071-b46e-87f9b439ab9a",
   "metadata": {},
   "outputs": [
    {
     "data": {
      "text/plain": [
       "[<matplotlib.lines.Line2D at 0x7f2120c49c00>]"
      ]
     },
     "execution_count": 10,
     "metadata": {},
     "output_type": "execute_result"
    },
    {
     "data": {
      "image/png": "[encoded data removed]",
      "text/plain": [
       "<Figure size 432x288 with 1 Axes>"
      ]
     },
     "metadata": {
      "needs_background": "light"
     },
     "output_type": "display_data"
    }
   ],
   "source": [
    "plt.plot(sae_train_outs['losses'])"
   ]
  },
  {
   "cell_type": "code",
   "execution_count": null,
   "id": "36460644-0814-4949-bc39-ee412f32262e",
   "metadata": {},
   "outputs": [],
   "source": []
  }
 ],
 "metadata": {
  "kernelspec": {
   "display_name": "Python 3 (ipykernel)",
   "language": "python",
   "name": "python3"
  },
  "language_info": {
   "codemirror_mode": {
    "name": "ipython",
    "version": 3
   },
   "file_extension": ".py",
   "mimetype": "text/x-python",
   "name": "python",
   "nbconvert_exporter": "python",
   "pygments_lexer": "ipython3",
   "version": "3.10.12"
  }
 },
 "nbformat": 4,
 "nbformat_minor": 5
}
